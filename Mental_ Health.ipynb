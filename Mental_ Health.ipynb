{
 "cells": [
  {
   "cell_type": "code",
   "execution_count": 1,
   "metadata": {},
   "outputs": [],
   "source": [
    "import pandas as pd\n",
    "import numpy as np\n",
    "import seaborn as sns\n",
    "import matplotlib.pyplot as plt\n",
    "import plotly.express as ex\n",
    "import plotly.graph_objs as go\n",
    "import plotly.figure_factory as ff\n",
    "from plotly.subplots import make_subplots"
   ]
  },
  {
   "cell_type": "code",
   "execution_count": 2,
   "metadata": {},
   "outputs": [
    {
     "data": {
      "text/html": [
       "<div>\n",
       "<style scoped>\n",
       "    .dataframe tbody tr th:only-of-type {\n",
       "        vertical-align: middle;\n",
       "    }\n",
       "\n",
       "    .dataframe tbody tr th {\n",
       "        vertical-align: top;\n",
       "    }\n",
       "\n",
       "    .dataframe thead th {\n",
       "        text-align: right;\n",
       "    }\n",
       "</style>\n",
       "<table border=\"1\" class=\"dataframe\">\n",
       "  <thead>\n",
       "    <tr style=\"text-align: right;\">\n",
       "      <th></th>\n",
       "      <th>Gender</th>\n",
       "      <th>Age</th>\n",
       "      <th>Relationships</th>\n",
       "      <th>Children</th>\n",
       "      <th>Employment</th>\n",
       "      <th>Rate_your_consumption_of_digital_services</th>\n",
       "      <th>would_you_like_to_change_the_amount_of_screen_time_you_are_currently_spending</th>\n",
       "      <th>Overall_how_do_you_work_condition_influence_your_mental_wellbeing</th>\n",
       "      <th>consideration_of_concerns</th>\n",
       "      <th>I_personaly_hesitate_to_voice_my_concerns</th>\n",
       "      <th>...</th>\n",
       "      <th>online_presence_and_digital_device_usage</th>\n",
       "      <th>Self_esteem</th>\n",
       "      <th>Time_management</th>\n",
       "      <th>Career_Growth</th>\n",
       "      <th>Stress_levels</th>\n",
       "      <th>Never_thoughts</th>\n",
       "      <th>physicall_health_and_conditions</th>\n",
       "      <th>Interests_skills</th>\n",
       "      <th>Personal_relationships</th>\n",
       "      <th>Mental_health_wellbeing</th>\n",
       "    </tr>\n",
       "  </thead>\n",
       "  <tbody>\n",
       "    <tr>\n",
       "      <th>0</th>\n",
       "      <td>Male</td>\n",
       "      <td>20-23 years old</td>\n",
       "      <td>Single</td>\n",
       "      <td>No</td>\n",
       "      <td>Student</td>\n",
       "      <td>9</td>\n",
       "      <td>I have not decided</td>\n",
       "      <td>4</td>\n",
       "      <td>5</td>\n",
       "      <td>No</td>\n",
       "      <td>...</td>\n",
       "      <td>No</td>\n",
       "      <td>Yes</td>\n",
       "      <td>Yes</td>\n",
       "      <td>Yes</td>\n",
       "      <td>Yes</td>\n",
       "      <td>Yes</td>\n",
       "      <td>Yes</td>\n",
       "      <td>Yes</td>\n",
       "      <td>Yes</td>\n",
       "      <td>Yes</td>\n",
       "    </tr>\n",
       "    <tr>\n",
       "      <th>1</th>\n",
       "      <td>Female</td>\n",
       "      <td>20-23 years old</td>\n",
       "      <td>Single</td>\n",
       "      <td>No</td>\n",
       "      <td>Student</td>\n",
       "      <td>7</td>\n",
       "      <td>Yes</td>\n",
       "      <td>3</td>\n",
       "      <td>4</td>\n",
       "      <td>No</td>\n",
       "      <td>...</td>\n",
       "      <td>Yes</td>\n",
       "      <td>No</td>\n",
       "      <td>Yes</td>\n",
       "      <td>No</td>\n",
       "      <td>Yes</td>\n",
       "      <td>Yes</td>\n",
       "      <td>Yes</td>\n",
       "      <td>No</td>\n",
       "      <td>No</td>\n",
       "      <td>Yes</td>\n",
       "    </tr>\n",
       "    <tr>\n",
       "      <th>2</th>\n",
       "      <td>Female</td>\n",
       "      <td>20-23 years old</td>\n",
       "      <td>In a relationship</td>\n",
       "      <td>No</td>\n",
       "      <td>Student</td>\n",
       "      <td>10</td>\n",
       "      <td>Yes</td>\n",
       "      <td>5</td>\n",
       "      <td>5</td>\n",
       "      <td>No</td>\n",
       "      <td>...</td>\n",
       "      <td>No</td>\n",
       "      <td>No</td>\n",
       "      <td>Yes</td>\n",
       "      <td>Yes</td>\n",
       "      <td>Yes</td>\n",
       "      <td>Yes</td>\n",
       "      <td>No</td>\n",
       "      <td>No</td>\n",
       "      <td>No</td>\n",
       "      <td>No</td>\n",
       "    </tr>\n",
       "    <tr>\n",
       "      <th>3</th>\n",
       "      <td>Female</td>\n",
       "      <td>20-23 years old</td>\n",
       "      <td>Single</td>\n",
       "      <td>No</td>\n",
       "      <td>Full-time employed for less than or equal to 5...</td>\n",
       "      <td>10</td>\n",
       "      <td>Yes</td>\n",
       "      <td>5</td>\n",
       "      <td>4</td>\n",
       "      <td>Yes</td>\n",
       "      <td>...</td>\n",
       "      <td>No</td>\n",
       "      <td>No</td>\n",
       "      <td>Yes</td>\n",
       "      <td>No</td>\n",
       "      <td>Yes</td>\n",
       "      <td>Yes</td>\n",
       "      <td>No</td>\n",
       "      <td>No</td>\n",
       "      <td>Yes</td>\n",
       "      <td>Yes</td>\n",
       "    </tr>\n",
       "    <tr>\n",
       "      <th>4</th>\n",
       "      <td>Female</td>\n",
       "      <td>20-23 years old</td>\n",
       "      <td>Single</td>\n",
       "      <td>No</td>\n",
       "      <td>Student</td>\n",
       "      <td>8</td>\n",
       "      <td>Yes</td>\n",
       "      <td>5</td>\n",
       "      <td>6</td>\n",
       "      <td>No</td>\n",
       "      <td>...</td>\n",
       "      <td>Yes</td>\n",
       "      <td>No</td>\n",
       "      <td>Yes</td>\n",
       "      <td>Yes</td>\n",
       "      <td>Yes</td>\n",
       "      <td>Yes</td>\n",
       "      <td>No</td>\n",
       "      <td>Yes</td>\n",
       "      <td>Yes</td>\n",
       "      <td>Yes</td>\n",
       "    </tr>\n",
       "  </tbody>\n",
       "</table>\n",
       "<p>5 rows × 38 columns</p>\n",
       "</div>"
      ],
      "text/plain": [
       "   Gender              Age      Relationships Children  \\\n",
       "0    Male  20-23 years old             Single       No   \n",
       "1  Female  20-23 years old             Single       No   \n",
       "2  Female  20-23 years old  In a relationship       No   \n",
       "3  Female  20-23 years old             Single       No   \n",
       "4  Female  20-23 years old             Single       No   \n",
       "\n",
       "                                          Employment  \\\n",
       "0                                            Student   \n",
       "1                                            Student   \n",
       "2                                            Student   \n",
       "3  Full-time employed for less than or equal to 5...   \n",
       "4                                            Student   \n",
       "\n",
       "   Rate_your_consumption_of_digital_services  \\\n",
       "0                                          9   \n",
       "1                                          7   \n",
       "2                                         10   \n",
       "3                                         10   \n",
       "4                                          8   \n",
       "\n",
       "  would_you_like_to_change_the_amount_of_screen_time_you_are_currently_spending  \\\n",
       "0                                 I have not decided                              \n",
       "1                                                Yes                              \n",
       "2                                                Yes                              \n",
       "3                                                Yes                              \n",
       "4                                                Yes                              \n",
       "\n",
       "   Overall_how_do_you_work_condition_influence_your_mental_wellbeing  \\\n",
       "0                                                  4                   \n",
       "1                                                  3                   \n",
       "2                                                  5                   \n",
       "3                                                  5                   \n",
       "4                                                  5                   \n",
       "\n",
       "   consideration_of_concerns I_personaly_hesitate_to_voice_my_concerns   ...  \\\n",
       "0                          5                                         No  ...   \n",
       "1                          4                                         No  ...   \n",
       "2                          5                                         No  ...   \n",
       "3                          4                                        Yes  ...   \n",
       "4                          6                                         No  ...   \n",
       "\n",
       "  online_presence_and_digital_device_usage Self_esteem Time_management  \\\n",
       "0                                       No         Yes             Yes   \n",
       "1                                      Yes          No             Yes   \n",
       "2                                       No          No             Yes   \n",
       "3                                       No          No             Yes   \n",
       "4                                      Yes          No             Yes   \n",
       "\n",
       "  Career_Growth Stress_levels Never_thoughts physicall_health_and_conditions  \\\n",
       "0           Yes           Yes            Yes                             Yes   \n",
       "1            No           Yes            Yes                             Yes   \n",
       "2           Yes           Yes            Yes                              No   \n",
       "3            No           Yes            Yes                              No   \n",
       "4           Yes           Yes            Yes                              No   \n",
       "\n",
       "  Interests_skills Personal_relationships Mental_health_wellbeing  \n",
       "0              Yes                   Yes                     Yes   \n",
       "1               No                     No                    Yes   \n",
       "2               No                     No                      No  \n",
       "3               No                   Yes                     Yes   \n",
       "4              Yes                   Yes                     Yes   \n",
       "\n",
       "[5 rows x 38 columns]"
      ]
     },
     "execution_count": 2,
     "metadata": {},
     "output_type": "execute_result"
    }
   ],
   "source": [
    "df=pd.read_csv('Mental_Health.csv')\n",
    "df.head(5)"
   ]
  },
  {
   "cell_type": "code",
   "execution_count": 3,
   "metadata": {},
   "outputs": [
    {
     "name": "stdout",
     "output_type": "stream",
     "text": [
      "<class 'pandas.core.frame.DataFrame'>\n",
      "RangeIndex: 6562 entries, 0 to 6561\n",
      "Data columns (total 38 columns):\n",
      " #   Column                                                                         Non-Null Count  Dtype \n",
      "---  ------                                                                         --------------  ----- \n",
      " 0   Gender                                                                         6562 non-null   object\n",
      " 1   Age                                                                            6562 non-null   object\n",
      " 2   Relationships                                                                  6562 non-null   object\n",
      " 3   Children                                                                       6562 non-null   object\n",
      " 4   Employment                                                                     6562 non-null   object\n",
      " 5   Rate_your_consumption_of_digital_services                                      6562 non-null   int64 \n",
      " 6   would_you_like_to_change_the_amount_of_screen_time_you_are_currently_spending  6562 non-null   object\n",
      " 7   Overall_how_do_you_work_condition_influence_your_mental_wellbeing              6562 non-null   int64 \n",
      " 8   consideration_of_concerns                                                      6562 non-null   int64 \n",
      " 9   I_personaly_hesitate_to_voice_my_concerns                                      6562 non-null   object\n",
      " 10  my_company_does_not_cultivate_this_kind_of_culture                             6562 non-null   object\n",
      " 11  I_do_not_feel_comfortable_with_my_supervisors                                  6562 non-null   object\n",
      " 12  Highest_priority_in_your_life_currently                                        6562 non-null   object\n",
      " 13  Anxiety                                                                        6562 non-null   object\n",
      " 14  Stressed                                                                       6562 non-null   object\n",
      " 15  Depression                                                                     6562 non-null   object\n",
      " 16  Burnout                                                                        6562 non-null   object\n",
      " 17  Loniliness                                                                     6562 non-null   object\n",
      " 18  Eating _problems                                                               6562 non-null   object\n",
      " 19  Sleeping_Problems                                                              6562 non-null   object\n",
      " 20  Social_Anxiety                                                                 6562 non-null   object\n",
      " 21  Substance_abuse                                                                6562 non-null   object\n",
      " 22  I_have_never_experienced_a_mental_health_conditions                            6562 non-null   object\n",
      " 23  Work                                                                           6562 non-null   object\n",
      " 24  Relationships_and_Family                                                       6562 non-null   object\n",
      " 25  Self_image_and_perception                                                      6562 non-null   object\n",
      " 26  physical_condition                                                             6562 non-null   object\n",
      " 27  Thinking_about_future_developements                                            6562 non-null   object\n",
      " 28  online_presence_and_digital_device_usage                                       6562 non-null   object\n",
      " 29  Self_esteem                                                                    6562 non-null   object\n",
      " 30  Time_management                                                                6562 non-null   object\n",
      " 31  Career_Growth                                                                  6562 non-null   object\n",
      " 32  Stress_levels                                                                  6562 non-null   object\n",
      " 33  Never_thoughts                                                                 6562 non-null   object\n",
      " 34  physicall_health_and_conditions                                                6562 non-null   object\n",
      " 35  Interests_skills                                                               6562 non-null   object\n",
      " 36  Personal_relationships                                                         6562 non-null   object\n",
      " 37  Mental_health_wellbeing                                                        6562 non-null   object\n",
      "dtypes: int64(3), object(35)\n",
      "memory usage: 1.9+ MB\n"
     ]
    }
   ],
   "source": [
    "df.info()"
   ]
  },
  {
   "cell_type": "code",
   "execution_count": 4,
   "metadata": {
    "scrolled": true
   },
   "outputs": [
    {
     "data": {
      "text/plain": [
       "(6562, 38)"
      ]
     },
     "execution_count": 4,
     "metadata": {},
     "output_type": "execute_result"
    }
   ],
   "source": [
    "df.shape"
   ]
  },
  {
   "cell_type": "markdown",
   "metadata": {},
   "source": [
    "# Amount and percent of the Age"
   ]
  },
  {
   "cell_type": "code",
   "execution_count": 5,
   "metadata": {},
   "outputs": [
    {
     "data": {
      "text/plain": [
       "28-30 years old     2129\n",
       "24-27  years old    1832\n",
       "31- 35 years old    1329\n",
       "20-23 years old      923\n",
       "35-40 years old      300\n",
       "Unknown               49\n",
       "Name: Age, dtype: int64"
      ]
     },
     "execution_count": 5,
     "metadata": {},
     "output_type": "execute_result"
    }
   ],
   "source": [
    "# amount of the age by the numbers\n",
    "df['Age'].value_counts()"
   ]
  },
  {
   "cell_type": "code",
   "execution_count": 6,
   "metadata": {},
   "outputs": [
    {
     "data": {
      "text/plain": [
       "28-30 years old     32.444377\n",
       "24-27  years old    27.918318\n",
       "31- 35 years old    20.252972\n",
       "20-23 years old     14.065834\n",
       "35-40 years old      4.571777\n",
       "Unknown              0.746724\n",
       "Name: Age, dtype: float64"
      ]
     },
     "execution_count": 6,
     "metadata": {},
     "output_type": "execute_result"
    }
   ],
   "source": [
    "# Percentage of the age \n",
    "df['Age'].value_counts(normalize=True)*100"
   ]
  },
  {
   "cell_type": "markdown",
   "metadata": {},
   "source": [
    "# Amount and percent of the Gender"
   ]
  },
  {
   "cell_type": "code",
   "execution_count": 7,
   "metadata": {},
   "outputs": [
    {
     "data": {
      "text/plain": [
       "Male                                    3772\n",
       "Female                                  2264\n",
       "Nonbinary / Otherwise gender-diverse     526\n",
       "Name: Gender, dtype: int64"
      ]
     },
     "execution_count": 7,
     "metadata": {},
     "output_type": "execute_result"
    }
   ],
   "source": [
    "# Amount of the Gender by the numbers\n",
    "df['Gender'].value_counts()"
   ]
  },
  {
   "cell_type": "code",
   "execution_count": 8,
   "metadata": {
    "scrolled": true
   },
   "outputs": [
    {
     "data": {
      "text/plain": [
       "Male                                    57.482475\n",
       "Female                                  34.501676\n",
       "Nonbinary / Otherwise gender-diverse     8.015849\n",
       "Name: Gender, dtype: float64"
      ]
     },
     "execution_count": 8,
     "metadata": {},
     "output_type": "execute_result"
    }
   ],
   "source": [
    "# The most percentage of people are Male\n",
    "df['Gender'].value_counts(normalize=True)*100"
   ]
  },
  {
   "cell_type": "markdown",
   "metadata": {},
   "source": [
    "# Amount and percent of the Relationships"
   ]
  },
  {
   "cell_type": "code",
   "execution_count": 9,
   "metadata": {},
   "outputs": [
    {
     "data": {
      "text/plain": [
       "Married or domestic partnership    2816\n",
       "In a relationship                  1344\n",
       "Single                             1259\n",
       "Divorced                            758\n",
       "Separated                           298\n",
       "Widowed                              87\n",
       "Name: Relationships, dtype: int64"
      ]
     },
     "execution_count": 9,
     "metadata": {},
     "output_type": "execute_result"
    }
   ],
   "source": [
    "df['Relationships'].value_counts()"
   ]
  },
  {
   "cell_type": "code",
   "execution_count": 10,
   "metadata": {
    "scrolled": true
   },
   "outputs": [
    {
     "data": {
      "text/plain": [
       "Married or domestic partnership    42.913746\n",
       "In a relationship                  20.481560\n",
       "Single                             19.186224\n",
       "Divorced                           11.551356\n",
       "Separated                           4.541298\n",
       "Widowed                             1.325815\n",
       "Name: Relationships, dtype: float64"
      ]
     },
     "execution_count": 10,
     "metadata": {},
     "output_type": "execute_result"
    }
   ],
   "source": [
    "# The most of the people are married or have domestic partnership\n",
    "df['Relationships'].value_counts(normalize=True)*100"
   ]
  },
  {
   "cell_type": "markdown",
   "metadata": {},
   "source": [
    "#  Amount and percent of the Children"
   ]
  },
  {
   "cell_type": "code",
   "execution_count": 11,
   "metadata": {},
   "outputs": [
    {
     "data": {
      "text/plain": [
       "Yes, I have kid(s).                      2783\n",
       "No                                       2526\n",
       "Yes, I have recently become a parent.    1253\n",
       "Name: Children, dtype: int64"
      ]
     },
     "execution_count": 11,
     "metadata": {},
     "output_type": "execute_result"
    }
   ],
   "source": [
    "df['Children'].value_counts()"
   ]
  },
  {
   "cell_type": "code",
   "execution_count": 12,
   "metadata": {
    "scrolled": true
   },
   "outputs": [
    {
     "data": {
      "text/plain": [
       "Yes, I have kid(s).                      42.410850\n",
       "No                                       38.494361\n",
       "Yes, I have recently become a parent.    19.094788\n",
       "Name: Children, dtype: float64"
      ]
     },
     "execution_count": 12,
     "metadata": {},
     "output_type": "execute_result"
    }
   ],
   "source": [
    "# The most people have kid or kids\n",
    "df['Children'].value_counts(normalize=True)*100"
   ]
  },
  {
   "cell_type": "markdown",
   "metadata": {},
   "source": [
    "#  Amount and percent of the Employment"
   ]
  },
  {
   "cell_type": "code",
   "execution_count": 13,
   "metadata": {},
   "outputs": [
    {
     "data": {
      "text/plain": [
       "Full-time employed for less than or equal to 5 years          2948\n",
       "Full-time employed for more than 5 and less than 10 years     1619\n",
       "Student with a job (e.g. part time, full time, internship)    1167\n",
       "Student                                                        441\n",
       "Full-time employed for more than or equal to 10 years          387\n",
       "Name: Employment, dtype: int64"
      ]
     },
     "execution_count": 13,
     "metadata": {},
     "output_type": "execute_result"
    }
   ],
   "source": [
    "df['Employment'].value_counts()"
   ]
  },
  {
   "cell_type": "code",
   "execution_count": 14,
   "metadata": {
    "scrolled": true
   },
   "outputs": [
    {
     "data": {
      "text/plain": [
       "Full-time employed for less than or equal to 5 years          44.925328\n",
       "Full-time employed for more than 5 and less than 10 years     24.672356\n",
       "Student with a job (e.g. part time, full time, internship)    17.784212\n",
       "Student                                                        6.720512\n",
       "Full-time employed for more than or equal to 10 years          5.897592\n",
       "Name: Employment, dtype: float64"
      ]
     },
     "execution_count": 14,
     "metadata": {},
     "output_type": "execute_result"
    }
   ],
   "source": [
    "# The most people are working less or equal to 5 years\n",
    "df['Employment'].value_counts(normalize=True)*100"
   ]
  },
  {
   "cell_type": "markdown",
   "metadata": {},
   "source": [
    "#  Amount and percent of the Rate consumption of digital services"
   ]
  },
  {
   "cell_type": "code",
   "execution_count": 15,
   "metadata": {},
   "outputs": [
    {
     "data": {
      "text/plain": [
       "7     1143\n",
       "6     1026\n",
       "8     1023\n",
       "5      946\n",
       "4      597\n",
       "9      577\n",
       "3      394\n",
       "10     353\n",
       "2      319\n",
       "1      174\n",
       "0       10\n",
       "Name: Rate_your_consumption_of_digital_services, dtype: int64"
      ]
     },
     "execution_count": 15,
     "metadata": {},
     "output_type": "execute_result"
    }
   ],
   "source": [
    "df['Rate_your_consumption_of_digital_services'].value_counts()"
   ]
  },
  {
   "cell_type": "code",
   "execution_count": 16,
   "metadata": {
    "scrolled": true
   },
   "outputs": [
    {
     "data": {
      "text/plain": [
       "7     17.418470\n",
       "6     15.635477\n",
       "8     15.589759\n",
       "5     14.416336\n",
       "4      9.097836\n",
       "9      8.793051\n",
       "3      6.004267\n",
       "10     5.379457\n",
       "2      4.861323\n",
       "1      2.651631\n",
       "0      0.152393\n",
       "Name: Rate_your_consumption_of_digital_services, dtype: float64"
      ]
     },
     "execution_count": 16,
     "metadata": {},
     "output_type": "execute_result"
    }
   ],
   "source": [
    "# The most of the people have number 7 which means have high rate of consumption of digital services\n",
    "df['Rate_your_consumption_of_digital_services'].value_counts(normalize=True)*100"
   ]
  },
  {
   "cell_type": "markdown",
   "metadata": {},
   "source": [
    "#  Amount and percent of the would you like to change the amount of screen time you are currently spending"
   ]
  },
  {
   "cell_type": "code",
   "execution_count": 17,
   "metadata": {},
   "outputs": [
    {
     "data": {
      "text/plain": [
       "Yes                   3376\n",
       "No                    1862\n",
       "I have not decided    1324\n",
       "Name: would_you_like_to_change_the_amount_of_screen_time_you_are_currently_spending, dtype: int64"
      ]
     },
     "execution_count": 17,
     "metadata": {},
     "output_type": "execute_result"
    }
   ],
   "source": [
    "df['would_you_like_to_change_the_amount_of_screen_time_you_are_currently_spending'].value_counts()"
   ]
  },
  {
   "cell_type": "code",
   "execution_count": 18,
   "metadata": {
    "scrolled": true
   },
   "outputs": [
    {
     "data": {
      "text/plain": [
       "Yes                   51.447729\n",
       "No                    28.375495\n",
       "I have not decided    20.176775\n",
       "Name: would_you_like_to_change_the_amount_of_screen_time_you_are_currently_spending, dtype: float64"
      ]
     },
     "execution_count": 18,
     "metadata": {},
     "output_type": "execute_result"
    }
   ],
   "source": [
    "# Most people want to change the amount of screnn \n",
    "df['would_you_like_to_change_the_amount_of_screen_time_you_are_currently_spending'].value_counts(normalize=True)*100"
   ]
  },
  {
   "cell_type": "markdown",
   "metadata": {},
   "source": [
    "# Amount and percent of the Overall how do you work condition influence your mental wellbeing"
   ]
  },
  {
   "cell_type": "code",
   "execution_count": 19,
   "metadata": {},
   "outputs": [
    {
     "data": {
      "text/plain": [
       "7     1231\n",
       "8     1133\n",
       "6     1102\n",
       "5      993\n",
       "9      533\n",
       "4      522\n",
       "3      390\n",
       "2      265\n",
       "10     226\n",
       "1      138\n",
       "0       29\n",
       "Name: Overall_how_do_you_work_condition_influence_your_mental_wellbeing, dtype: int64"
      ]
     },
     "execution_count": 19,
     "metadata": {},
     "output_type": "execute_result"
    }
   ],
   "source": [
    "df['Overall_how_do_you_work_condition_influence_your_mental_wellbeing'].value_counts()"
   ]
  },
  {
   "cell_type": "code",
   "execution_count": 20,
   "metadata": {
    "scrolled": true
   },
   "outputs": [
    {
     "data": {
      "text/plain": [
       "7     18.759525\n",
       "8     17.266077\n",
       "6     16.793660\n",
       "5     15.132582\n",
       "9      8.122524\n",
       "4      7.954892\n",
       "3      5.943310\n",
       "2      4.038403\n",
       "10     3.444072\n",
       "1      2.103017\n",
       "0      0.441938\n",
       "Name: Overall_how_do_you_work_condition_influence_your_mental_wellbeing, dtype: float64"
      ]
     },
     "execution_count": 20,
     "metadata": {},
     "output_type": "execute_result"
    }
   ],
   "source": [
    "# the number 7 has the highest percent which is rather high influence in our mental wellbeing\n",
    "df['Overall_how_do_you_work_condition_influence_your_mental_wellbeing'].value_counts(normalize=True)*100"
   ]
  },
  {
   "cell_type": "markdown",
   "metadata": {},
   "source": [
    "# Amount and percent of the consideration of concerns"
   ]
  },
  {
   "cell_type": "code",
   "execution_count": 21,
   "metadata": {},
   "outputs": [
    {
     "data": {
      "text/plain": [
       "7     1285\n",
       "6     1140\n",
       "8     1040\n",
       "5      994\n",
       "4      599\n",
       "9      481\n",
       "3      389\n",
       "2      239\n",
       "10     227\n",
       "1      132\n",
       "0       36\n",
       "Name: consideration_of_concerns, dtype: int64"
      ]
     },
     "execution_count": 21,
     "metadata": {},
     "output_type": "execute_result"
    }
   ],
   "source": [
    "df['consideration_of_concerns'].value_counts()"
   ]
  },
  {
   "cell_type": "code",
   "execution_count": 22,
   "metadata": {
    "scrolled": true
   },
   "outputs": [
    {
     "data": {
      "text/plain": [
       "7     19.582444\n",
       "6     17.372752\n",
       "8     15.848827\n",
       "5     15.147821\n",
       "4      9.128315\n",
       "9      7.330082\n",
       "3      5.928071\n",
       "2      3.642182\n",
       "10     3.459311\n",
       "1      2.011582\n",
       "0      0.548613\n",
       "Name: consideration_of_concerns, dtype: float64"
      ]
     },
     "execution_count": 22,
     "metadata": {},
     "output_type": "execute_result"
    }
   ],
   "source": [
    "# Number 7 has the the consideration of concern which is high percent\n",
    "df['consideration_of_concerns'].value_counts(normalize=True)*100"
   ]
  },
  {
   "cell_type": "markdown",
   "metadata": {},
   "source": [
    "# Amount and percent of  hesitate to voice concerns"
   ]
  },
  {
   "cell_type": "code",
   "execution_count": 23,
   "metadata": {},
   "outputs": [
    {
     "data": {
      "text/plain": [
       "No     5713\n",
       "Yes     849\n",
       "Name: I_personaly_hesitate_to_voice_my_concerns , dtype: int64"
      ]
     },
     "execution_count": 23,
     "metadata": {},
     "output_type": "execute_result"
    }
   ],
   "source": [
    "df['I_personaly_hesitate_to_voice_my_concerns '].value_counts()"
   ]
  },
  {
   "cell_type": "code",
   "execution_count": 24,
   "metadata": {
    "scrolled": true
   },
   "outputs": [
    {
     "data": {
      "text/plain": [
       "No     87.061871\n",
       "Yes    12.938129\n",
       "Name: I_personaly_hesitate_to_voice_my_concerns , dtype: float64"
      ]
     },
     "execution_count": 24,
     "metadata": {},
     "output_type": "execute_result"
    }
   ],
   "source": [
    "# Most of the people do not hesitate to voice concerns\n",
    "df['I_personaly_hesitate_to_voice_my_concerns '].value_counts(normalize=True)*100"
   ]
  },
  {
   "cell_type": "markdown",
   "metadata": {},
   "source": [
    "# Amount and percent of my company does not cultivate this kind of culture "
   ]
  },
  {
   "cell_type": "code",
   "execution_count": 25,
   "metadata": {},
   "outputs": [
    {
     "data": {
      "text/plain": [
       "Yes    5195\n",
       "No     1367\n",
       "Name: my_company_does_not_cultivate_this_kind_of_culture, dtype: int64"
      ]
     },
     "execution_count": 25,
     "metadata": {},
     "output_type": "execute_result"
    }
   ],
   "source": [
    "df['my_company_does_not_cultivate_this_kind_of_culture'].value_counts()"
   ]
  },
  {
   "cell_type": "code",
   "execution_count": 26,
   "metadata": {
    "scrolled": true
   },
   "outputs": [
    {
     "data": {
      "text/plain": [
       "Yes    79.167937\n",
       "No     20.832063\n",
       "Name: my_company_does_not_cultivate_this_kind_of_culture, dtype: float64"
      ]
     },
     "execution_count": 26,
     "metadata": {},
     "output_type": "execute_result"
    }
   ],
   "source": [
    "# Most of the people's company do not have cultivate the culture\n",
    "df['my_company_does_not_cultivate_this_kind_of_culture'].value_counts(normalize=True)*100"
   ]
  },
  {
   "cell_type": "markdown",
   "metadata": {},
   "source": [
    "# Amount and percent of  do not feel comfortable with my supervisors"
   ]
  },
  {
   "cell_type": "code",
   "execution_count": 27,
   "metadata": {},
   "outputs": [
    {
     "data": {
      "text/plain": [
       "Yes    5963\n",
       "No      599\n",
       "Name: I_do_not_feel_comfortable_with_my_supervisors , dtype: int64"
      ]
     },
     "execution_count": 27,
     "metadata": {},
     "output_type": "execute_result"
    }
   ],
   "source": [
    "df['I_do_not_feel_comfortable_with_my_supervisors '].value_counts()"
   ]
  },
  {
   "cell_type": "code",
   "execution_count": 28,
   "metadata": {
    "scrolled": true
   },
   "outputs": [
    {
     "data": {
      "text/plain": [
       "Yes    90.871685\n",
       "No      9.128315\n",
       "Name: I_do_not_feel_comfortable_with_my_supervisors , dtype: float64"
      ]
     },
     "execution_count": 28,
     "metadata": {},
     "output_type": "execute_result"
    }
   ],
   "source": [
    "# Most of the people do not feel comfortable with their supervisors\n",
    "df['I_do_not_feel_comfortable_with_my_supervisors '].value_counts(normalize=True)*100"
   ]
  },
  {
   "cell_type": "markdown",
   "metadata": {},
   "source": [
    "# Amount highest priority in our life currently"
   ]
  },
  {
   "cell_type": "code",
   "execution_count": 29,
   "metadata": {},
   "outputs": [
    {
     "data": {
      "text/plain": [
       "Mental and physical wellbeing                   1894\n",
       "Self-actualization                              1522\n",
       "Balance between different aspects of my life     916\n",
       "Social life and relationships                    913\n",
       "Work related success                             785\n",
       "My family and kids                               532\n",
       "Name: Highest_priority_in_your_life_currently, dtype: int64"
      ]
     },
     "execution_count": 29,
     "metadata": {},
     "output_type": "execute_result"
    }
   ],
   "source": [
    "df['Highest_priority_in_your_life_currently'].value_counts()"
   ]
  },
  {
   "cell_type": "code",
   "execution_count": 30,
   "metadata": {
    "scrolled": true
   },
   "outputs": [
    {
     "data": {
      "text/plain": [
       "Mental and physical wellbeing                   28.863151\n",
       "Self-actualization                              23.194148\n",
       "Balance between different aspects of my life    13.959159\n",
       "Social life and relationships                   13.913441\n",
       "Work related success                            11.962816\n",
       "My family and kids                               8.107284\n",
       "Name: Highest_priority_in_your_life_currently, dtype: float64"
      ]
     },
     "execution_count": 30,
     "metadata": {},
     "output_type": "execute_result"
    }
   ],
   "source": [
    "# Mental health and physicall wellbeing has the hisghest percentage among anothers priority in the life\n",
    "df['Highest_priority_in_your_life_currently'].value_counts(normalize=True)*100"
   ]
  },
  {
   "cell_type": "markdown",
   "metadata": {},
   "source": [
    "# Amount of Anxiety "
   ]
  },
  {
   "cell_type": "code",
   "execution_count": 31,
   "metadata": {},
   "outputs": [
    {
     "data": {
      "text/plain": [
       "No     4903\n",
       "Yes    1659\n",
       "Name: Anxiety , dtype: int64"
      ]
     },
     "execution_count": 31,
     "metadata": {},
     "output_type": "execute_result"
    }
   ],
   "source": [
    "df['Anxiety '].value_counts()"
   ]
  },
  {
   "cell_type": "code",
   "execution_count": 32,
   "metadata": {
    "scrolled": true
   },
   "outputs": [
    {
     "data": {
      "text/plain": [
       "No     74.718074\n",
       "Yes    25.281926\n",
       "Name: Anxiety , dtype: float64"
      ]
     },
     "execution_count": 32,
     "metadata": {},
     "output_type": "execute_result"
    }
   ],
   "source": [
    "# The most of the people do not have anxiety\n",
    "df['Anxiety '].value_counts(normalize=True)*100"
   ]
  },
  {
   "cell_type": "markdown",
   "metadata": {},
   "source": [
    "# Amount of Stressed "
   ]
  },
  {
   "cell_type": "code",
   "execution_count": 33,
   "metadata": {},
   "outputs": [
    {
     "data": {
      "text/plain": [
       "No     4029\n",
       "Yes    2533\n",
       "Name: Stressed, dtype: int64"
      ]
     },
     "execution_count": 33,
     "metadata": {},
     "output_type": "execute_result"
    }
   ],
   "source": [
    "df['Stressed'].value_counts()"
   ]
  },
  {
   "cell_type": "code",
   "execution_count": 34,
   "metadata": {
    "scrolled": true
   },
   "outputs": [
    {
     "data": {
      "text/plain": [
       "No     61.398964\n",
       "Yes    38.601036\n",
       "Name: Stressed, dtype: float64"
      ]
     },
     "execution_count": 34,
     "metadata": {},
     "output_type": "execute_result"
    }
   ],
   "source": [
    "# 61% of people do not have stress\n",
    "df['Stressed'].value_counts(normalize=True)*100"
   ]
  },
  {
   "cell_type": "markdown",
   "metadata": {},
   "source": [
    "# Amount of Depression "
   ]
  },
  {
   "cell_type": "code",
   "execution_count": 35,
   "metadata": {},
   "outputs": [
    {
     "data": {
      "text/plain": [
       "No     4677\n",
       "Yes    1885\n",
       "Name: Depression, dtype: int64"
      ]
     },
     "execution_count": 35,
     "metadata": {},
     "output_type": "execute_result"
    }
   ],
   "source": [
    "df['Depression'].value_counts()"
   ]
  },
  {
   "cell_type": "code",
   "execution_count": 36,
   "metadata": {
    "scrolled": true
   },
   "outputs": [
    {
     "data": {
      "text/plain": [
       "No     71.274002\n",
       "Yes    28.725998\n",
       "Name: Depression, dtype: float64"
      ]
     },
     "execution_count": 36,
     "metadata": {},
     "output_type": "execute_result"
    }
   ],
   "source": [
    "# The most of the people do not have depression \n",
    "df['Depression'].value_counts(normalize=True)*100"
   ]
  },
  {
   "cell_type": "markdown",
   "metadata": {},
   "source": [
    "# Amount of Burnout"
   ]
  },
  {
   "cell_type": "code",
   "execution_count": 37,
   "metadata": {
    "scrolled": true
   },
   "outputs": [
    {
     "data": {
      "text/plain": [
       "No     5022\n",
       "Yes    1540\n",
       "Name: Burnout, dtype: int64"
      ]
     },
     "execution_count": 37,
     "metadata": {},
     "output_type": "execute_result"
    }
   ],
   "source": [
    "df['Burnout'].value_counts()"
   ]
  },
  {
   "cell_type": "code",
   "execution_count": 38,
   "metadata": {
    "scrolled": true
   },
   "outputs": [
    {
     "data": {
      "text/plain": [
       "No     76.531545\n",
       "Yes    23.468455\n",
       "Name: Burnout, dtype: float64"
      ]
     },
     "execution_count": 38,
     "metadata": {},
     "output_type": "execute_result"
    }
   ],
   "source": [
    "# The most people do not have any burnout\n",
    "df['Burnout'].value_counts(normalize=True)*100"
   ]
  },
  {
   "cell_type": "markdown",
   "metadata": {},
   "source": [
    "# Amount of Loniliness"
   ]
  },
  {
   "cell_type": "code",
   "execution_count": 39,
   "metadata": {},
   "outputs": [
    {
     "data": {
      "text/plain": [
       "No     4795\n",
       "Yes    1767\n",
       "Name: Loniliness, dtype: int64"
      ]
     },
     "execution_count": 39,
     "metadata": {},
     "output_type": "execute_result"
    }
   ],
   "source": [
    "df['Loniliness'].value_counts()"
   ]
  },
  {
   "cell_type": "code",
   "execution_count": 40,
   "metadata": {
    "scrolled": true
   },
   "outputs": [
    {
     "data": {
      "text/plain": [
       "No     73.072234\n",
       "Yes    26.927766\n",
       "Name: Loniliness, dtype: float64"
      ]
     },
     "execution_count": 40,
     "metadata": {},
     "output_type": "execute_result"
    }
   ],
   "source": [
    "# Almost 73 percent of people are not feeling lonely\n",
    "df['Loniliness'].value_counts(normalize=True)*100"
   ]
  },
  {
   "cell_type": "markdown",
   "metadata": {},
   "source": [
    "# Amount of eating problems"
   ]
  },
  {
   "cell_type": "code",
   "execution_count": 41,
   "metadata": {},
   "outputs": [
    {
     "data": {
      "text/plain": [
       "No     5071\n",
       "Yes    1491\n",
       "Name: Eating _problems, dtype: int64"
      ]
     },
     "execution_count": 41,
     "metadata": {},
     "output_type": "execute_result"
    }
   ],
   "source": [
    "df['Eating _problems'].value_counts()"
   ]
  },
  {
   "cell_type": "code",
   "execution_count": 42,
   "metadata": {
    "scrolled": true
   },
   "outputs": [
    {
     "data": {
      "text/plain": [
       "No     77.278269\n",
       "Yes    22.721731\n",
       "Name: Eating _problems, dtype: float64"
      ]
     },
     "execution_count": 42,
     "metadata": {},
     "output_type": "execute_result"
    }
   ],
   "source": [
    "# The most people do not have eating problems\n",
    "df['Eating _problems'].value_counts(normalize=True)*100"
   ]
  },
  {
   "cell_type": "markdown",
   "metadata": {},
   "source": [
    "# Amount of Sleeping problems"
   ]
  },
  {
   "cell_type": "code",
   "execution_count": 43,
   "metadata": {},
   "outputs": [
    {
     "data": {
      "text/plain": [
       "No     4644\n",
       "Yes    1918\n",
       "Name: Sleeping_Problems, dtype: int64"
      ]
     },
     "execution_count": 43,
     "metadata": {},
     "output_type": "execute_result"
    }
   ],
   "source": [
    "df['Sleeping_Problems'].value_counts()"
   ]
  },
  {
   "cell_type": "code",
   "execution_count": 44,
   "metadata": {
    "scrolled": true
   },
   "outputs": [
    {
     "data": {
      "text/plain": [
       "No     70.771106\n",
       "Yes    29.228894\n",
       "Name: Sleeping_Problems, dtype: float64"
      ]
     },
     "execution_count": 44,
     "metadata": {},
     "output_type": "execute_result"
    }
   ],
   "source": [
    "# The most people do not have Sleeping problems\n",
    "df['Sleeping_Problems'].value_counts(normalize=True)*100"
   ]
  },
  {
   "cell_type": "markdown",
   "metadata": {},
   "source": [
    "# Amount of Social anxiety "
   ]
  },
  {
   "cell_type": "code",
   "execution_count": 45,
   "metadata": {},
   "outputs": [
    {
     "data": {
      "text/plain": [
       "No     5122\n",
       "Yes    1440\n",
       "Name: Social_Anxiety, dtype: int64"
      ]
     },
     "execution_count": 45,
     "metadata": {},
     "output_type": "execute_result"
    }
   ],
   "source": [
    "df['Social_Anxiety'].value_counts()"
   ]
  },
  {
   "cell_type": "code",
   "execution_count": 46,
   "metadata": {
    "scrolled": true
   },
   "outputs": [
    {
     "data": {
      "text/plain": [
       "No     78.055471\n",
       "Yes    21.944529\n",
       "Name: Social_Anxiety, dtype: float64"
      ]
     },
     "execution_count": 46,
     "metadata": {},
     "output_type": "execute_result"
    }
   ],
   "source": [
    "# The most people do not have social anxiety\n",
    "df['Social_Anxiety'].value_counts(normalize=True)*100"
   ]
  },
  {
   "cell_type": "markdown",
   "metadata": {},
   "source": [
    "# Amount of substance abuse"
   ]
  },
  {
   "cell_type": "code",
   "execution_count": 47,
   "metadata": {},
   "outputs": [
    {
     "data": {
      "text/plain": [
       "No     5931\n",
       "Yes     631\n",
       "Name: Substance_abuse, dtype: int64"
      ]
     },
     "execution_count": 47,
     "metadata": {},
     "output_type": "execute_result"
    }
   ],
   "source": [
    "df['Substance_abuse'].value_counts()"
   ]
  },
  {
   "cell_type": "code",
   "execution_count": 48,
   "metadata": {
    "scrolled": false
   },
   "outputs": [
    {
     "data": {
      "text/plain": [
       "No     90.384029\n",
       "Yes     9.615971\n",
       "Name: Substance_abuse, dtype: float64"
      ]
     },
     "execution_count": 48,
     "metadata": {},
     "output_type": "execute_result"
    }
   ],
   "source": [
    "# The most of the people do not use alcohol or drugs\n",
    "df['Substance_abuse'].value_counts(normalize=True)*100"
   ]
  },
  {
   "cell_type": "markdown",
   "metadata": {},
   "source": [
    "# Amount of experienced a mental health conditions"
   ]
  },
  {
   "cell_type": "code",
   "execution_count": 49,
   "metadata": {},
   "outputs": [
    {
     "data": {
      "text/plain": [
       "Yes    6041\n",
       "No      521\n",
       "Name: I_have_never_experienced_a_mental_health_conditions, dtype: int64"
      ]
     },
     "execution_count": 49,
     "metadata": {},
     "output_type": "execute_result"
    }
   ],
   "source": [
    "df['I_have_never_experienced_a_mental_health_conditions'].value_counts()"
   ]
  },
  {
   "cell_type": "code",
   "execution_count": 50,
   "metadata": {
    "scrolled": true
   },
   "outputs": [
    {
     "data": {
      "text/plain": [
       "Yes    92.060347\n",
       "No      7.939653\n",
       "Name: I_have_never_experienced_a_mental_health_conditions, dtype: float64"
      ]
     },
     "execution_count": 50,
     "metadata": {},
     "output_type": "execute_result"
    }
   ],
   "source": [
    "# The most of the people have ever experienced with a mental health conditions \n",
    "df['I_have_never_experienced_a_mental_health_conditions'].value_counts(normalize=True)*100"
   ]
  },
  {
   "cell_type": "markdown",
   "metadata": {},
   "source": [
    "# Percent of work"
   ]
  },
  {
   "cell_type": "code",
   "execution_count": 51,
   "metadata": {},
   "outputs": [
    {
     "data": {
      "text/plain": [
       "No     4671\n",
       "Yes    1891\n",
       "Name: Work, dtype: int64"
      ]
     },
     "execution_count": 51,
     "metadata": {},
     "output_type": "execute_result"
    }
   ],
   "source": [
    "df['Work'].value_counts()"
   ]
  },
  {
   "cell_type": "code",
   "execution_count": 52,
   "metadata": {
    "scrolled": true
   },
   "outputs": [
    {
     "data": {
      "text/plain": [
       "No     71.182566\n",
       "Yes    28.817434\n",
       "Name: Work, dtype: float64"
      ]
     },
     "execution_count": 52,
     "metadata": {},
     "output_type": "execute_result"
    }
   ],
   "source": [
    "# The 71 percent of people are not working \n",
    "df['Work'].value_counts(normalize=True)*100"
   ]
  },
  {
   "cell_type": "markdown",
   "metadata": {},
   "source": [
    "# Amount of relationhip and family"
   ]
  },
  {
   "cell_type": "code",
   "execution_count": 53,
   "metadata": {},
   "outputs": [
    {
     "data": {
      "text/plain": [
       "No     4506\n",
       "Yes    2056\n",
       "Name: Relationships_and_Family, dtype: int64"
      ]
     },
     "execution_count": 53,
     "metadata": {},
     "output_type": "execute_result"
    }
   ],
   "source": [
    "df['Relationships_and_Family'].value_counts()"
   ]
  },
  {
   "cell_type": "code",
   "execution_count": 54,
   "metadata": {
    "scrolled": true
   },
   "outputs": [
    {
     "data": {
      "text/plain": [
       "No     68.668089\n",
       "Yes    31.331911\n",
       "Name: Relationships_and_Family, dtype: float64"
      ]
     },
     "execution_count": 54,
     "metadata": {},
     "output_type": "execute_result"
    }
   ],
   "source": [
    "# Almost 69 percent of people do not have relationships and family\n",
    "df['Relationships_and_Family'].value_counts(normalize=True)*100"
   ]
  },
  {
   "cell_type": "markdown",
   "metadata": {},
   "source": [
    "# Amount of self image and perception"
   ]
  },
  {
   "cell_type": "code",
   "execution_count": 55,
   "metadata": {},
   "outputs": [
    {
     "data": {
      "text/plain": [
       "No     4308\n",
       "Yes    2254\n",
       "Name: Self_image_and_perception, dtype: int64"
      ]
     },
     "execution_count": 55,
     "metadata": {},
     "output_type": "execute_result"
    }
   ],
   "source": [
    "df['Self_image_and_perception'].value_counts()"
   ]
  },
  {
   "cell_type": "code",
   "execution_count": 56,
   "metadata": {
    "scrolled": true
   },
   "outputs": [
    {
     "data": {
      "text/plain": [
       "No     65.650716\n",
       "Yes    34.349284\n",
       "Name: Self_image_and_perception, dtype: float64"
      ]
     },
     "execution_count": 56,
     "metadata": {},
     "output_type": "execute_result"
    }
   ],
   "source": [
    "# 65 percent of people do not have any self image and perception\n",
    "df['Self_image_and_perception'].value_counts(normalize=True)*100"
   ]
  },
  {
   "cell_type": "markdown",
   "metadata": {},
   "source": [
    "# Amount of physical conditions"
   ]
  },
  {
   "cell_type": "code",
   "execution_count": 57,
   "metadata": {},
   "outputs": [
    {
     "data": {
      "text/plain": [
       "No     3910\n",
       "Yes    2652\n",
       "Name: physical_condition, dtype: int64"
      ]
     },
     "execution_count": 57,
     "metadata": {},
     "output_type": "execute_result"
    }
   ],
   "source": [
    "df['physical_condition'].value_counts()"
   ]
  },
  {
   "cell_type": "code",
   "execution_count": 58,
   "metadata": {
    "scrolled": true
   },
   "outputs": [
    {
     "data": {
      "text/plain": [
       "No     59.585492\n",
       "Yes    40.414508\n",
       "Name: physical_condition, dtype: float64"
      ]
     },
     "execution_count": 58,
     "metadata": {},
     "output_type": "execute_result"
    }
   ],
   "source": [
    "# The most part of the people do not have good physicall condition \n",
    "df['physical_condition'].value_counts(normalize=True)*100"
   ]
  },
  {
   "cell_type": "markdown",
   "metadata": {},
   "source": [
    "# Amount of thinking about future developments"
   ]
  },
  {
   "cell_type": "code",
   "execution_count": 59,
   "metadata": {},
   "outputs": [
    {
     "data": {
      "text/plain": [
       "No     4039\n",
       "Yes    2523\n",
       "Name: Thinking_about_future_developements, dtype: int64"
      ]
     },
     "execution_count": 59,
     "metadata": {},
     "output_type": "execute_result"
    }
   ],
   "source": [
    "df['Thinking_about_future_developements'].value_counts()"
   ]
  },
  {
   "cell_type": "code",
   "execution_count": 60,
   "metadata": {
    "scrolled": true
   },
   "outputs": [
    {
     "data": {
      "text/plain": [
       "No     61.551356\n",
       "Yes    38.448644\n",
       "Name: Thinking_about_future_developements, dtype: float64"
      ]
     },
     "execution_count": 60,
     "metadata": {},
     "output_type": "execute_result"
    }
   ],
   "source": [
    "# Almost 62% of people do not think about the future and developments\n",
    "df['Thinking_about_future_developements'].value_counts(normalize=True)*100"
   ]
  },
  {
   "cell_type": "markdown",
   "metadata": {},
   "source": [
    "# Amount of online presence and digital device usage"
   ]
  },
  {
   "cell_type": "code",
   "execution_count": 61,
   "metadata": {},
   "outputs": [
    {
     "data": {
      "text/plain": [
       "No     5769\n",
       "Yes     793\n",
       "Name: online_presence_and_digital_device_usage, dtype: int64"
      ]
     },
     "execution_count": 61,
     "metadata": {},
     "output_type": "execute_result"
    }
   ],
   "source": [
    "df['online_presence_and_digital_device_usage'].value_counts()"
   ]
  },
  {
   "cell_type": "code",
   "execution_count": 62,
   "metadata": {
    "scrolled": false
   },
   "outputs": [
    {
     "data": {
      "text/plain": [
       "No     87.91527\n",
       "Yes    12.08473\n",
       "Name: online_presence_and_digital_device_usage, dtype: float64"
      ]
     },
     "execution_count": 62,
     "metadata": {},
     "output_type": "execute_result"
    }
   ],
   "source": [
    "# Almost 88 percent of the people do not have usage of digital device and online presence\n",
    "df['online_presence_and_digital_device_usage'].value_counts(normalize=True)*100"
   ]
  },
  {
   "cell_type": "markdown",
   "metadata": {},
   "source": [
    "# Amount of self esteem"
   ]
  },
  {
   "cell_type": "code",
   "execution_count": 63,
   "metadata": {},
   "outputs": [
    {
     "data": {
      "text/plain": [
       "No     5594\n",
       "Yes     968\n",
       "Name: Self_esteem, dtype: int64"
      ]
     },
     "execution_count": 63,
     "metadata": {},
     "output_type": "execute_result"
    }
   ],
   "source": [
    "df['Self_esteem'].value_counts()"
   ]
  },
  {
   "cell_type": "code",
   "execution_count": 64,
   "metadata": {
    "scrolled": true
   },
   "outputs": [
    {
     "data": {
      "text/plain": [
       "No     85.2484\n",
       "Yes    14.7516\n",
       "Name: Self_esteem, dtype: float64"
      ]
     },
     "execution_count": 64,
     "metadata": {},
     "output_type": "execute_result"
    }
   ],
   "source": [
    "# The most of the people do not have self esteem\n",
    "df['Self_esteem'].value_counts(normalize=True)*100"
   ]
  },
  {
   "cell_type": "markdown",
   "metadata": {},
   "source": [
    "# Amount of time management"
   ]
  },
  {
   "cell_type": "code",
   "execution_count": 65,
   "metadata": {},
   "outputs": [
    {
     "data": {
      "text/plain": [
       "No     4819\n",
       "Yes    1743\n",
       "Name: Time_management, dtype: int64"
      ]
     },
     "execution_count": 65,
     "metadata": {},
     "output_type": "execute_result"
    }
   ],
   "source": [
    "df['Time_management'].value_counts()"
   ]
  },
  {
   "cell_type": "code",
   "execution_count": 66,
   "metadata": {
    "scrolled": true
   },
   "outputs": [
    {
     "data": {
      "text/plain": [
       "No     73.437976\n",
       "Yes    26.562024\n",
       "Name: Time_management, dtype: float64"
      ]
     },
     "execution_count": 66,
     "metadata": {},
     "output_type": "execute_result"
    }
   ],
   "source": [
    "# 73 percent of people can not manage \n",
    "df['Time_management'].value_counts(normalize=True)*100"
   ]
  },
  {
   "cell_type": "markdown",
   "metadata": {},
   "source": [
    "# Amount of career growth"
   ]
  },
  {
   "cell_type": "code",
   "execution_count": 67,
   "metadata": {},
   "outputs": [
    {
     "data": {
      "text/plain": [
       "No     4335\n",
       "Yes    2227\n",
       "Name: Career_Growth, dtype: int64"
      ]
     },
     "execution_count": 67,
     "metadata": {},
     "output_type": "execute_result"
    }
   ],
   "source": [
    "df['Career_Growth'].value_counts()"
   ]
  },
  {
   "cell_type": "code",
   "execution_count": 68,
   "metadata": {
    "scrolled": true
   },
   "outputs": [
    {
     "data": {
      "text/plain": [
       "No     66.062176\n",
       "Yes    33.937824\n",
       "Name: Career_Growth, dtype: float64"
      ]
     },
     "execution_count": 68,
     "metadata": {},
     "output_type": "execute_result"
    }
   ],
   "source": [
    "# The most of the people do not have career growth\n",
    "df['Career_Growth'].value_counts(normalize=True)*100"
   ]
  },
  {
   "cell_type": "markdown",
   "metadata": {},
   "source": [
    "# Amount of strees levels"
   ]
  },
  {
   "cell_type": "code",
   "execution_count": 69,
   "metadata": {},
   "outputs": [
    {
     "data": {
      "text/plain": [
       "No     3953\n",
       "Yes    2609\n",
       "Name: Stress_levels, dtype: int64"
      ]
     },
     "execution_count": 69,
     "metadata": {},
     "output_type": "execute_result"
    }
   ],
   "source": [
    "df['Stress_levels'].value_counts()"
   ]
  },
  {
   "cell_type": "code",
   "execution_count": 70,
   "metadata": {
    "scrolled": false
   },
   "outputs": [
    {
     "data": {
      "text/plain": [
       "No     60.24078\n",
       "Yes    39.75922\n",
       "Name: Stress_levels, dtype: float64"
      ]
     },
     "execution_count": 70,
     "metadata": {},
     "output_type": "execute_result"
    }
   ],
   "source": [
    "# The most of the people do not have stress levels\n",
    "df['Stress_levels'].value_counts(normalize=True)*100"
   ]
  },
  {
   "cell_type": "markdown",
   "metadata": {},
   "source": [
    "# Amount of never thoughts"
   ]
  },
  {
   "cell_type": "code",
   "execution_count": 71,
   "metadata": {},
   "outputs": [
    {
     "data": {
      "text/plain": [
       "Yes    6561\n",
       "No        1\n",
       "Name: Never_thoughts, dtype: int64"
      ]
     },
     "execution_count": 71,
     "metadata": {},
     "output_type": "execute_result"
    }
   ],
   "source": [
    "df['Never_thoughts'].value_counts()"
   ]
  },
  {
   "cell_type": "code",
   "execution_count": 72,
   "metadata": {
    "scrolled": true
   },
   "outputs": [
    {
     "data": {
      "text/plain": [
       "Yes    99.984761\n",
       "No      0.015239\n",
       "Name: Never_thoughts, dtype: float64"
      ]
     },
     "execution_count": 72,
     "metadata": {},
     "output_type": "execute_result"
    }
   ],
   "source": [
    "# Almost all people Never thoughts about Future \n",
    "df['Never_thoughts'].value_counts(normalize=True)*100"
   ]
  },
  {
   "cell_type": "markdown",
   "metadata": {},
   "source": [
    "# Amount of physical health and conditions"
   ]
  },
  {
   "cell_type": "code",
   "execution_count": 73,
   "metadata": {},
   "outputs": [
    {
     "data": {
      "text/plain": [
       "No     4403\n",
       "Yes    2159\n",
       "Name: physicall_health_and_conditions, dtype: int64"
      ]
     },
     "execution_count": 73,
     "metadata": {},
     "output_type": "execute_result"
    }
   ],
   "source": [
    "df['physicall_health_and_conditions'].value_counts()"
   ]
  },
  {
   "cell_type": "code",
   "execution_count": 74,
   "metadata": {
    "scrolled": true
   },
   "outputs": [
    {
     "data": {
      "text/plain": [
       "No     67.098446\n",
       "Yes    32.901554\n",
       "Name: physicall_health_and_conditions, dtype: float64"
      ]
     },
     "execution_count": 74,
     "metadata": {},
     "output_type": "execute_result"
    }
   ],
   "source": [
    "# 67 percent of people do not think about Physical health and conditions\n",
    "df['physicall_health_and_conditions'].value_counts(normalize=True)*100"
   ]
  },
  {
   "cell_type": "markdown",
   "metadata": {},
   "source": [
    "# Amount of interests skills"
   ]
  },
  {
   "cell_type": "code",
   "execution_count": 75,
   "metadata": {},
   "outputs": [
    {
     "data": {
      "text/plain": [
       "No     5018\n",
       "Yes    1544\n",
       "Name: Interests_skills, dtype: int64"
      ]
     },
     "execution_count": 75,
     "metadata": {},
     "output_type": "execute_result"
    }
   ],
   "source": [
    "df['Interests_skills'].value_counts()"
   ]
  },
  {
   "cell_type": "code",
   "execution_count": 76,
   "metadata": {
    "scrolled": false
   },
   "outputs": [
    {
     "data": {
      "text/plain": [
       "No     76.470588\n",
       "Yes    23.529412\n",
       "Name: Interests_skills, dtype: float64"
      ]
     },
     "execution_count": 76,
     "metadata": {},
     "output_type": "execute_result"
    }
   ],
   "source": [
    "# Almost 76 of people do not have any interest skilss\n",
    "df['Interests_skills'].value_counts(normalize=True)*100"
   ]
  },
  {
   "cell_type": "markdown",
   "metadata": {},
   "source": [
    "# Amount of personal relationships"
   ]
  },
  {
   "cell_type": "code",
   "execution_count": 77,
   "metadata": {
    "scrolled": true
   },
   "outputs": [
    {
     "data": {
      "text/plain": [
       "No      5144\n",
       "Yes     1418\n",
       "Name: Personal_relationships, dtype: int64"
      ]
     },
     "execution_count": 77,
     "metadata": {},
     "output_type": "execute_result"
    }
   ],
   "source": [
    "df['Personal_relationships'].value_counts()"
   ]
  },
  {
   "cell_type": "code",
   "execution_count": 78,
   "metadata": {
    "scrolled": true
   },
   "outputs": [
    {
     "data": {
      "text/plain": [
       "No      78.390735\n",
       "Yes     21.609265\n",
       "Name: Personal_relationships, dtype: float64"
      ]
     },
     "execution_count": 78,
     "metadata": {},
     "output_type": "execute_result"
    }
   ],
   "source": [
    "# Most people do not have personal relationships\n",
    "df['Personal_relationships'].value_counts(normalize=True)*100"
   ]
  },
  {
   "cell_type": "markdown",
   "metadata": {},
   "source": [
    "# Amount of mental health wellbeing"
   ]
  },
  {
   "cell_type": "code",
   "execution_count": 79,
   "metadata": {
    "scrolled": true
   },
   "outputs": [
    {
     "data": {
      "text/plain": [
       "No      5788\n",
       "Yes      774\n",
       "Name: Mental_health_wellbeing, dtype: int64"
      ]
     },
     "execution_count": 79,
     "metadata": {},
     "output_type": "execute_result"
    }
   ],
   "source": [
    "df['Mental_health_wellbeing'].value_counts()"
   ]
  },
  {
   "cell_type": "code",
   "execution_count": 80,
   "metadata": {
    "scrolled": false
   },
   "outputs": [
    {
     "data": {
      "text/plain": [
       "No      88.204816\n",
       "Yes     11.795184\n",
       "Name: Mental_health_wellbeing, dtype: float64"
      ]
     },
     "execution_count": 80,
     "metadata": {},
     "output_type": "execute_result"
    }
   ],
   "source": [
    "# Almost 88 percent of people do not have mental health wellbeing\n",
    "df['Mental_health_wellbeing'].value_counts(normalize=True)*100"
   ]
  },
  {
   "cell_type": "markdown",
   "metadata": {},
   "source": [
    "# We use the barplot for Data Visualization"
   ]
  },
  {
   "cell_type": "code",
   "execution_count": 81,
   "metadata": {},
   "outputs": [
    {
     "data": {
      "image/png": "[encoded data removed]",
      "text/plain": [
       "<Figure size 720x360 with 1 Axes>"
      ]
     },
     "metadata": {
      "needs_background": "light"
     },
     "output_type": "display_data"
    }
   ],
   "source": [
    "plt.rcParams['figure.figsize']=(10,5)\n",
    "df['Gender'].value_counts().sort_values(ascending=False).plot.bar(color='red')\n",
    "plt.xlabel('What best describes your gender?')\n",
    "plt.ylabel('count')\n",
    "plt.xticks(rotation=50)\n",
    "plt.show()"
   ]
  },
  {
   "cell_type": "code",
   "execution_count": 82,
   "metadata": {
    "scrolled": true
   },
   "outputs": [
    {
     "data": {
      "image/png": "[encoded data removed]",
      "text/plain": [
       "<Figure size 720x360 with 1 Axes>"
      ]
     },
     "metadata": {
      "needs_background": "light"
     },
     "output_type": "display_data"
    }
   ],
   "source": [
    "plt.rcParams['figure.figsize']=(10,5)\n",
    "df['Age'].value_counts().sort_values(ascending=False).plot.bar(color='blue')\n",
    "plt.xlabel('How old are you?')\n",
    "plt.ylabel('count')\n",
    "plt.xticks(rotation=50)\n",
    "plt.show()"
   ]
  },
  {
   "cell_type": "code",
   "execution_count": 83,
   "metadata": {
    "scrolled": true
   },
   "outputs": [
    {
     "data": {
      "image/png": "[encoded data removed]",
      "text/plain": [
       "<Figure size 720x360 with 1 Axes>"
      ]
     },
     "metadata": {
      "needs_background": "light"
     },
     "output_type": "display_data"
    }
   ],
   "source": [
    "plt.rcParams['figure.figsize']=(10,5)\n",
    "df['Relationships'].value_counts().sort_values(ascending=False).plot.bar(color='orange')\n",
    "plt.xlabel('what is your Relationship status?')\n",
    "plt.ylabel('count')\n",
    "plt.xticks(rotation=50)\n",
    "plt.show()"
   ]
  },
  {
   "cell_type": "code",
   "execution_count": 84,
   "metadata": {
    "scrolled": true
   },
   "outputs": [
    {
     "data": {
      "image/png": "[encoded data removed]",
      "text/plain": [
       "<Figure size 720x360 with 1 Axes>"
      ]
     },
     "metadata": {
      "needs_background": "light"
     },
     "output_type": "display_data"
    }
   ],
   "source": [
    "plt.rcParams['figure.figsize']=(10,5)\n",
    "df['Children'].value_counts().sort_values(ascending=False).plot.bar(color='purple')\n",
    "plt.xlabel('Do you have Children')\n",
    "plt.ylabel('count')\n",
    "plt.xticks(rotation=50)\n",
    "plt.show()"
   ]
  },
  {
   "cell_type": "code",
   "execution_count": 85,
   "metadata": {
    "scrolled": true
   },
   "outputs": [
    {
     "data": {
      "image/png": "[encoded data removed]",
      "text/plain": [
       "<Figure size 720x360 with 1 Axes>"
      ]
     },
     "metadata": {
      "needs_background": "light"
     },
     "output_type": "display_data"
    }
   ],
   "source": [
    "plt.rcParams['figure.figsize']=(10,5)\n",
    "df['Employment'].value_counts().sort_values(ascending=False).plot.bar(color='pink')\n",
    "plt.xlabel('what is your employment status?')\n",
    "plt.ylabel('count')\n",
    "plt.xticks(rotation=50)\n",
    "plt.show()"
   ]
  },
  {
   "cell_type": "code",
   "execution_count": 86,
   "metadata": {},
   "outputs": [
    {
     "data": {
      "image/png": "[encoded data removed]",
      "text/plain": [
       "<Figure size 720x360 with 1 Axes>"
      ]
     },
     "metadata": {
      "needs_background": "light"
     },
     "output_type": "display_data"
    }
   ],
   "source": [
    "plt.rcParams['figure.figsize']=(10,5)\n",
    "df['Rate_your_consumption_of_digital_services'].value_counts().sort_values(ascending=False).plot.bar(color='black')\n",
    "plt.xlabel('How would you rate your consumption of digital devices(smartphone, computer, tablet , etc.)? ')\n",
    "plt.ylabel('count')\n",
    "plt.xticks(rotation=50)\n",
    "plt.show()"
   ]
  },
  {
   "cell_type": "code",
   "execution_count": 87,
   "metadata": {
    "scrolled": true
   },
   "outputs": [
    {
     "data": {
      "image/png": "[encoded data removed]",
      "text/plain": [
       "<Figure size 720x360 with 1 Axes>"
      ]
     },
     "metadata": {
      "needs_background": "light"
     },
     "output_type": "display_data"
    }
   ],
   "source": [
    "plt.rcParams['figure.figsize']=(10,5)\n",
    "df['would_you_like_to_change_the_amount_of_screen_time_you_are_currently_spending'].value_counts().sort_values(ascending=False).plot.bar(color='brown')\n",
    "plt.xlabel('would you like to change the amount of screen time you are currently spending?')\n",
    "plt.ylabel('count')\n",
    "plt.xticks(rotation=50)\n",
    "plt.show()"
   ]
  },
  {
   "cell_type": "code",
   "execution_count": 88,
   "metadata": {
    "scrolled": true
   },
   "outputs": [
    {
     "data": {
      "image/png": "[encoded data removed]",
      "text/plain": [
       "<Figure size 720x360 with 1 Axes>"
      ]
     },
     "metadata": {
      "needs_background": "light"
     },
     "output_type": "display_data"
    }
   ],
   "source": [
    "plt.rcParams['figure.figsize']=(10,5)\n",
    "df['Overall_how_do_you_work_condition_influence_your_mental_wellbeing'].value_counts().sort_values(ascending=False).plot.bar(color='green')\n",
    "plt.xlabel('Overall how do you work condition influence your mental wellbeing?')\n",
    "plt.ylabel('count')\n",
    "plt.xticks(rotation=50)\n",
    "plt.show()"
   ]
  },
  {
   "cell_type": "code",
   "execution_count": 89,
   "metadata": {
    "scrolled": true
   },
   "outputs": [
    {
     "data": {
      "image/png": "[encoded data removed]",
      "text/plain": [
       "<Figure size 720x360 with 1 Axes>"
      ]
     },
     "metadata": {
      "needs_background": "light"
     },
     "output_type": "display_data"
    }
   ],
   "source": [
    "plt.rcParams['figure.figsize']=(10,5)\n",
    "df['consideration_of_concerns'].value_counts().sort_values(ascending=False).plot.bar(color='grey')\n",
    "plt.xlabel('To what extent do you feel that your mental wellbeing needs and concerns are taken into considerations at your workplace?')\n",
    "plt.ylabel('count')\n",
    "plt.xticks(rotation=50)\n",
    "plt.show()"
   ]
  },
  {
   "cell_type": "code",
   "execution_count": 90,
   "metadata": {
    "scrolled": true
   },
   "outputs": [
    {
     "data": {
      "image/png": "[encoded data removed]",
      "text/plain": [
       "<Figure size 720x360 with 1 Axes>"
      ]
     },
     "metadata": {
      "needs_background": "light"
     },
     "output_type": "display_data"
    }
   ],
   "source": [
    "plt.rcParams['figure.figsize']=(10,5)\n",
    "df['I_personaly_hesitate_to_voice_my_concerns '].value_counts().sort_values(ascending=False).plot.bar(color='yellow')\n",
    "plt.xlabel('I personaly hesitate to voice my concerns')\n",
    "plt.ylabel('count')\n",
    "plt.xticks(rotation=50)\n",
    "plt.show()"
   ]
  },
  {
   "cell_type": "code",
   "execution_count": 91,
   "metadata": {
    "scrolled": true
   },
   "outputs": [
    {
     "data": {
      "image/png": "[encoded data removed]",
      "text/plain": [
       "<Figure size 720x360 with 1 Axes>"
      ]
     },
     "metadata": {
      "needs_background": "light"
     },
     "output_type": "display_data"
    }
   ],
   "source": [
    "plt.rcParams['figure.figsize']=(10,5)\n",
    "df['my_company_does_not_cultivate_this_kind_of_culture'].value_counts().sort_values(ascending=False).plot.bar(color='violet')\n",
    "plt.xlabel('my company does not cultivate this kind of culture')\n",
    "plt.ylabel('count')\n",
    "plt.xticks(rotation=50)\n",
    "plt.show()"
   ]
  },
  {
   "cell_type": "code",
   "execution_count": 92,
   "metadata": {
    "scrolled": true
   },
   "outputs": [
    {
     "data": {
      "image/png": "[encoded data removed]",
      "text/plain": [
       "<Figure size 720x360 with 1 Axes>"
      ]
     },
     "metadata": {
      "needs_background": "light"
     },
     "output_type": "display_data"
    }
   ],
   "source": [
    "plt.rcParams['figure.figsize']=(10,5)\n",
    "df['I_do_not_feel_comfortable_with_my_supervisors '].value_counts().sort_values(ascending=False).plot.bar(color='red')\n",
    "plt.xlabel('I do not feel comfortable with my supervisors')\n",
    "plt.ylabel('count')\n",
    "plt.xticks(rotation=50)\n",
    "plt.show()"
   ]
  },
  {
   "cell_type": "code",
   "execution_count": 93,
   "metadata": {
    "scrolled": true
   },
   "outputs": [
    {
     "data": {
      "image/png": "[encoded data removed]",
      "text/plain": [
       "<Figure size 720x360 with 1 Axes>"
      ]
     },
     "metadata": {
      "needs_background": "light"
     },
     "output_type": "display_data"
    }
   ],
   "source": [
    "plt.rcParams['figure.figsize']=(10,5)\n",
    "df['Highest_priority_in_your_life_currently'].value_counts().sort_values(ascending=False).plot.bar(color='green')\n",
    "plt.xlabel('Which of the following has the highest priority in your life currently?')\n",
    "plt.ylabel('count')\n",
    "plt.xticks(rotation=50)\n",
    "plt.show()"
   ]
  },
  {
   "cell_type": "code",
   "execution_count": 94,
   "metadata": {
    "scrolled": true
   },
   "outputs": [
    {
     "data": {
      "image/png": "[encoded data removed]",
      "text/plain": [
       "<Figure size 720x360 with 1 Axes>"
      ]
     },
     "metadata": {
      "needs_background": "light"
     },
     "output_type": "display_data"
    }
   ],
   "source": [
    "plt.rcParams['figure.figsize']=(10,5)\n",
    "df['Anxiety '].value_counts().sort_values(ascending=False).plot.bar(color='brown')\n",
    "plt.xlabel('Anxiety')\n",
    "plt.ylabel('count')\n",
    "plt.xticks(rotation=50)\n",
    "plt.show()"
   ]
  },
  {
   "cell_type": "code",
   "execution_count": 95,
   "metadata": {
    "scrolled": true
   },
   "outputs": [
    {
     "data": {
      "image/png": "[encoded data removed]",
      "text/plain": [
       "<Figure size 720x360 with 1 Axes>"
      ]
     },
     "metadata": {
      "needs_background": "light"
     },
     "output_type": "display_data"
    }
   ],
   "source": [
    "plt.rcParams['figure.figsize']=(10,5)\n",
    "df['Stressed'].value_counts().sort_values(ascending=False).plot.bar(color='yellow')\n",
    "plt.xlabel('Stressed')\n",
    "plt.ylabel('count')\n",
    "plt.xticks(rotation=50)\n",
    "plt.show()"
   ]
  },
  {
   "cell_type": "code",
   "execution_count": 96,
   "metadata": {
    "scrolled": true
   },
   "outputs": [
    {
     "data": {
      "image/png": "[encoded data removed]",
      "text/plain": [
       "<Figure size 720x360 with 1 Axes>"
      ]
     },
     "metadata": {
      "needs_background": "light"
     },
     "output_type": "display_data"
    }
   ],
   "source": [
    "plt.rcParams['figure.figsize']=(10,5)\n",
    "df['Depression'].value_counts().sort_values(ascending=False).plot.bar(color='grey')\n",
    "plt.xlabel('Depression')\n",
    "plt.ylabel('count')\n",
    "plt.xticks(rotation=50)\n",
    "plt.show()"
   ]
  },
  {
   "cell_type": "code",
   "execution_count": 97,
   "metadata": {
    "scrolled": true
   },
   "outputs": [
    {
     "data": {
      "image/png": "[encoded data removed]",
      "text/plain": [
       "<Figure size 720x360 with 1 Axes>"
      ]
     },
     "metadata": {
      "needs_background": "light"
     },
     "output_type": "display_data"
    }
   ],
   "source": [
    "plt.rcParams['figure.figsize']=(10,5)\n",
    "df['Burnout'].value_counts().sort_values(ascending=False).plot.bar(color='black')\n",
    "plt.xlabel('Burnout')\n",
    "plt.ylabel('count')\n",
    "plt.xticks(rotation=50)\n",
    "plt.show()"
   ]
  },
  {
   "cell_type": "code",
   "execution_count": 98,
   "metadata": {
    "scrolled": true
   },
   "outputs": [
    {
     "data": {
      "image/png": "[encoded data removed]",
      "text/plain": [
       "<Figure size 720x360 with 1 Axes>"
      ]
     },
     "metadata": {
      "needs_background": "light"
     },
     "output_type": "display_data"
    }
   ],
   "source": [
    "plt.rcParams['figure.figsize']=(10,5)\n",
    "df['Loniliness'].value_counts().sort_values(ascending=False).plot.bar(color='blue')\n",
    "plt.xlabel('Loniliness')\n",
    "plt.ylabel('count')\n",
    "plt.xticks(rotation=50)\n",
    "plt.show()"
   ]
  },
  {
   "cell_type": "code",
   "execution_count": 99,
   "metadata": {
    "scrolled": true
   },
   "outputs": [
    {
     "data": {
      "image/png": "[encoded data removed]",
      "text/plain": [
       "<Figure size 720x360 with 1 Axes>"
      ]
     },
     "metadata": {
      "needs_background": "light"
     },
     "output_type": "display_data"
    }
   ],
   "source": [
    "plt.rcParams['figure.figsize']=(10,5)\n",
    "df['Eating _problems'].value_counts().sort_values(ascending=False).plot.bar(color='orange')\n",
    "plt.xlabel('Eating problems')\n",
    "plt.ylabel('count')\n",
    "plt.xticks(rotation=50)\n",
    "plt.show()"
   ]
  },
  {
   "cell_type": "code",
   "execution_count": 100,
   "metadata": {
    "scrolled": true
   },
   "outputs": [
    {
     "data": {
      "image/png": "[encoded data removed]",
      "text/plain": [
       "<Figure size 720x360 with 1 Axes>"
      ]
     },
     "metadata": {
      "needs_background": "light"
     },
     "output_type": "display_data"
    }
   ],
   "source": [
    "plt.rcParams['figure.figsize']=(10,5)\n",
    "df['Sleeping_Problems'].value_counts().sort_values(ascending=False).plot.bar(color='violet')\n",
    "plt.xlabel('Sleeping Problems')\n",
    "plt.ylabel('count')\n",
    "plt.xticks(rotation=50)\n",
    "plt.show()"
   ]
  },
  {
   "cell_type": "code",
   "execution_count": 101,
   "metadata": {
    "scrolled": true
   },
   "outputs": [
    {
     "data": {
      "image/png": "[encoded data removed]",
      "text/plain": [
       "<Figure size 720x360 with 1 Axes>"
      ]
     },
     "metadata": {
      "needs_background": "light"
     },
     "output_type": "display_data"
    }
   ],
   "source": [
    "plt.rcParams['figure.figsize']=(10,5)\n",
    "df['Social_Anxiety'].value_counts().sort_values(ascending=False).plot.bar(color='pink')\n",
    "plt.xlabel('Social Anxiety')\n",
    "plt.ylabel('count')\n",
    "plt.xticks(rotation=50)\n",
    "plt.show()"
   ]
  },
  {
   "cell_type": "code",
   "execution_count": 102,
   "metadata": {
    "scrolled": true
   },
   "outputs": [
    {
     "data": {
      "image/png": "[encoded data removed]",
      "text/plain": [
       "<Figure size 720x360 with 1 Axes>"
      ]
     },
     "metadata": {
      "needs_background": "light"
     },
     "output_type": "display_data"
    }
   ],
   "source": [
    "plt.rcParams['figure.figsize']=(10,5)\n",
    "df['Substance_abuse'].value_counts().sort_values(ascending=False).plot.bar(color='red')\n",
    "plt.xlabel('Substance abuse')\n",
    "plt.ylabel('count')\n",
    "plt.xticks(rotation=50)\n",
    "plt.show()"
   ]
  },
  {
   "cell_type": "code",
   "execution_count": 103,
   "metadata": {
    "scrolled": true
   },
   "outputs": [
    {
     "data": {
      "image/png": "[encoded data removed]",
      "text/plain": [
       "<Figure size 720x360 with 1 Axes>"
      ]
     },
     "metadata": {
      "needs_background": "light"
     },
     "output_type": "display_data"
    }
   ],
   "source": [
    "plt.rcParams['figure.figsize']=(10,5)\n",
    "df['I_have_never_experienced_a_mental_health_conditions'].value_counts().sort_values(ascending=False).plot.bar(color='purple')\n",
    "plt.xlabel('I have never experienced a mental health conditions')\n",
    "plt.ylabel('count')\n",
    "plt.xticks(rotation=50)\n",
    "plt.show()"
   ]
  },
  {
   "cell_type": "code",
   "execution_count": 104,
   "metadata": {
    "scrolled": true
   },
   "outputs": [
    {
     "data": {
      "image/png": "[encoded data removed]",
      "text/plain": [
       "<Figure size 720x360 with 1 Axes>"
      ]
     },
     "metadata": {
      "needs_background": "light"
     },
     "output_type": "display_data"
    }
   ],
   "source": [
    "plt.rcParams['figure.figsize']=(10,5)\n",
    "df['Work'].value_counts().sort_values(ascending=False).plot.bar(color='blue')\n",
    "plt.xlabel('Work')\n",
    "plt.ylabel('count')\n",
    "plt.xticks(rotation=50)\n",
    "plt.show()"
   ]
  },
  {
   "cell_type": "code",
   "execution_count": 105,
   "metadata": {},
   "outputs": [
    {
     "data": {
      "image/png": "[encoded data removed]",
      "text/plain": [
       "<Figure size 720x360 with 1 Axes>"
      ]
     },
     "metadata": {
      "needs_background": "light"
     },
     "output_type": "display_data"
    }
   ],
   "source": [
    "plt.rcParams['figure.figsize']=(10,5)\n",
    "df['Relationships_and_Family'].value_counts().sort_values(ascending=False).plot.bar(color='orange')\n",
    "plt.xlabel('Relationships and Family')\n",
    "plt.ylabel('count')\n",
    "plt.xticks(rotation=50)\n",
    "plt.show()"
   ]
  },
  {
   "cell_type": "code",
   "execution_count": 106,
   "metadata": {
    "scrolled": true
   },
   "outputs": [
    {
     "data": {
      "image/png": "[encoded data removed]",
      "text/plain": [
       "<Figure size 720x360 with 1 Axes>"
      ]
     },
     "metadata": {
      "needs_background": "light"
     },
     "output_type": "display_data"
    }
   ],
   "source": [
    "plt.rcParams['figure.figsize']=(10,5)\n",
    "df['Self_image_and_perception'].value_counts().sort_values(ascending=False).plot.bar(color='green')\n",
    "plt.xlabel('Self image and perception')\n",
    "plt.ylabel('count')\n",
    "plt.xticks(rotation=50)\n",
    "plt.show()"
   ]
  },
  {
   "cell_type": "code",
   "execution_count": 107,
   "metadata": {},
   "outputs": [
    {
     "data": {
      "image/png": "[encoded data removed]",
      "text/plain": [
       "<Figure size 720x360 with 1 Axes>"
      ]
     },
     "metadata": {
      "needs_background": "light"
     },
     "output_type": "display_data"
    }
   ],
   "source": [
    "plt.rcParams['figure.figsize']=(10,5)\n",
    "df['physical_condition'].value_counts().sort_values(ascending=False).plot.bar(color='black')\n",
    "plt.xlabel('physical condition')\n",
    "plt.ylabel('count')\n",
    "plt.xticks(rotation=50)\n",
    "plt.show()"
   ]
  },
  {
   "cell_type": "code",
   "execution_count": 108,
   "metadata": {
    "scrolled": true
   },
   "outputs": [
    {
     "data": {
      "image/png": "[encoded data removed]",
      "text/plain": [
       "<Figure size 720x360 with 1 Axes>"
      ]
     },
     "metadata": {
      "needs_background": "light"
     },
     "output_type": "display_data"
    }
   ],
   "source": [
    "plt.rcParams['figure.figsize']=(10,5)\n",
    "df['Thinking_about_future_developements'].value_counts().sort_values(ascending=False).plot.bar(color='brown')\n",
    "plt.xlabel('Thinking about future developements')\n",
    "plt.ylabel('count')\n",
    "plt.xticks(rotation=50)\n",
    "plt.show()"
   ]
  },
  {
   "cell_type": "code",
   "execution_count": 109,
   "metadata": {
    "scrolled": true
   },
   "outputs": [
    {
     "data": {
      "image/png": "[encoded data removed]",
      "text/plain": [
       "<Figure size 720x360 with 1 Axes>"
      ]
     },
     "metadata": {
      "needs_background": "light"
     },
     "output_type": "display_data"
    }
   ],
   "source": [
    "plt.rcParams['figure.figsize']=(10,5)\n",
    "df['online_presence_and_digital_device_usage'].value_counts().sort_values(ascending=False).plot.bar(color='yellow')\n",
    "plt.xlabel('online presence and digital device usage')\n",
    "plt.ylabel('count')\n",
    "plt.xticks(rotation=50)\n",
    "plt.show()"
   ]
  },
  {
   "cell_type": "code",
   "execution_count": 110,
   "metadata": {},
   "outputs": [
    {
     "data": {
      "image/png": "[encoded data removed]",
      "text/plain": [
       "<Figure size 720x360 with 1 Axes>"
      ]
     },
     "metadata": {
      "needs_background": "light"
     },
     "output_type": "display_data"
    }
   ],
   "source": [
    "plt.rcParams['figure.figsize']=(10,5)\n",
    "df['Self_esteem'].value_counts().sort_values(ascending=False).plot.bar(color='red')\n",
    "plt.xlabel('Self esteem')\n",
    "plt.ylabel('count')\n",
    "plt.xticks(rotation=50)\n",
    "plt.show()"
   ]
  },
  {
   "cell_type": "code",
   "execution_count": 111,
   "metadata": {},
   "outputs": [
    {
     "data": {
      "image/png": "[encoded data removed]",
      "text/plain": [
       "<Figure size 720x360 with 1 Axes>"
      ]
     },
     "metadata": {
      "needs_background": "light"
     },
     "output_type": "display_data"
    }
   ],
   "source": [
    "plt.rcParams['figure.figsize']=(10,5)\n",
    "df['Time_management'].value_counts().sort_values(ascending=False).plot.bar(color='blue')\n",
    "plt.xlabel('Time management')\n",
    "plt.ylabel('count')\n",
    "plt.xticks(rotation=50)\n",
    "plt.show()"
   ]
  },
  {
   "cell_type": "code",
   "execution_count": 112,
   "metadata": {},
   "outputs": [
    {
     "data": {
      "image/png": "[encoded data removed]",
      "text/plain": [
       "<Figure size 720x360 with 1 Axes>"
      ]
     },
     "metadata": {
      "needs_background": "light"
     },
     "output_type": "display_data"
    }
   ],
   "source": [
    "plt.rcParams['figure.figsize']=(10,5)\n",
    "df['Career_Growth'].value_counts().sort_values(ascending=False).plot.bar(color='green')\n",
    "plt.xlabel('Career Growth')\n",
    "plt.ylabel('count')\n",
    "plt.xticks(rotation=50)\n",
    "plt.show()"
   ]
  },
  {
   "cell_type": "code",
   "execution_count": 113,
   "metadata": {
    "scrolled": true
   },
   "outputs": [
    {
     "data": {
      "image/png": "[encoded data removed]",
      "text/plain": [
       "<Figure size 720x360 with 1 Axes>"
      ]
     },
     "metadata": {
      "needs_background": "light"
     },
     "output_type": "display_data"
    }
   ],
   "source": [
    "plt.rcParams['figure.figsize']=(10,5)\n",
    "df['Stress_levels'].value_counts().sort_values(ascending=False).plot.bar(color='pink')\n",
    "plt.xlabel('Stress levels')\n",
    "plt.ylabel('count')\n",
    "plt.xticks(rotation=50)\n",
    "plt.show()"
   ]
  },
  {
   "cell_type": "code",
   "execution_count": 114,
   "metadata": {},
   "outputs": [
    {
     "data": {
      "image/png": "[encoded data removed]",
      "text/plain": [
       "<Figure size 720x360 with 1 Axes>"
      ]
     },
     "metadata": {
      "needs_background": "light"
     },
     "output_type": "display_data"
    }
   ],
   "source": [
    "plt.rcParams['figure.figsize']=(10,5)\n",
    "df['Never_thoughts'].value_counts().sort_values(ascending=False).plot.bar(color='violet')\n",
    "plt.xlabel('Never thoughts')\n",
    "plt.ylabel('count')\n",
    "plt.xticks(rotation=50)\n",
    "plt.show()"
   ]
  },
  {
   "cell_type": "code",
   "execution_count": 115,
   "metadata": {
    "scrolled": false
   },
   "outputs": [
    {
     "data": {
      "image/png": "[encoded data removed]",
      "text/plain": [
       "<Figure size 720x360 with 1 Axes>"
      ]
     },
     "metadata": {
      "needs_background": "light"
     },
     "output_type": "display_data"
    }
   ],
   "source": [
    "plt.rcParams['figure.figsize']=(10,5)\n",
    "df['physicall_health_and_conditions'].value_counts().sort_values(ascending=False).plot.bar(color='black')\n",
    "plt.xlabel('physical health and conditions')\n",
    "plt.ylabel('count')\n",
    "plt.xticks(rotation=50)\n",
    "plt.show()"
   ]
  },
  {
   "cell_type": "code",
   "execution_count": 116,
   "metadata": {},
   "outputs": [
    {
     "data": {
      "image/png": "[encoded data removed]",
      "text/plain": [
       "<Figure size 720x360 with 1 Axes>"
      ]
     },
     "metadata": {
      "needs_background": "light"
     },
     "output_type": "display_data"
    }
   ],
   "source": [
    "plt.rcParams['figure.figsize']=(10,5)\n",
    "df['Interests_skills'].value_counts().sort_values(ascending=False).plot.bar(color='blue')\n",
    "plt.xlabel('Interests skills')\n",
    "plt.ylabel('count')\n",
    "plt.xticks(rotation=50)\n",
    "plt.show()"
   ]
  },
  {
   "cell_type": "code",
   "execution_count": 117,
   "metadata": {},
   "outputs": [
    {
     "data": {
      "image/png": "[encoded data removed]",
      "text/plain": [
       "<Figure size 720x360 with 1 Axes>"
      ]
     },
     "metadata": {
      "needs_background": "light"
     },
     "output_type": "display_data"
    }
   ],
   "source": [
    "plt.rcParams['figure.figsize']=(10,5)\n",
    "df['Personal_relationships'].value_counts().sort_values(ascending=False).plot.bar(color='violet')\n",
    "plt.xlabel('Personal relationships')\n",
    "plt.ylabel('count')\n",
    "plt.xticks(rotation=50)\n",
    "plt.show()"
   ]
  },
  {
   "cell_type": "code",
   "execution_count": 118,
   "metadata": {},
   "outputs": [
    {
     "data": {
      "image/png": "[encoded data removed]",
      "text/plain": [
       "<Figure size 720x360 with 1 Axes>"
      ]
     },
     "metadata": {
      "needs_background": "light"
     },
     "output_type": "display_data"
    }
   ],
   "source": [
    "plt.rcParams['figure.figsize']=(10,5)\n",
    "df['Mental_health_wellbeing'].value_counts().sort_values(ascending=False).plot.bar(color='red')\n",
    "plt.xlabel('Mental health wellbeing')\n",
    "plt.ylabel('count')\n",
    "plt.xticks(rotation=50)\n",
    "plt.show()"
   ]
  }
 ],
 "metadata": {
  "kernelspec": {
   "display_name": "Python 3",
   "language": "python",
   "name": "python3"
  },
  "language_info": {
   "codemirror_mode": {
    "name": "ipython",
    "version": 3
   },
   "file_extension": ".py",
   "mimetype": "text/x-python",
   "name": "python",
   "nbconvert_exporter": "python",
   "pygments_lexer": "ipython3",
   "version": "3.8.3"
  }
 },
 "nbformat": 4,
 "nbformat_minor": 4
}
